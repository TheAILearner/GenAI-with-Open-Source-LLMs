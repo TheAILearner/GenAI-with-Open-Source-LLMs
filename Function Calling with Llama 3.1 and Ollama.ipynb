{
 "cells": [
  {
   "cell_type": "markdown",
   "metadata": {},
   "source": [
    "1. Install Required Libraries\n",
    "2. math tool, wikipedia tool, weather tool\n",
    "3. Which tool needs to be called\n",
    "4. Tool Execution\n",
    "5. Generate Final Response "
   ]
  },
  {
   "cell_type": "code",
   "execution_count": 1,
   "metadata": {},
   "outputs": [],
   "source": [
    "# !pip install ollama numexpr wikipedia langchain"
   ]
  },
  {
   "cell_type": "markdown",
   "metadata": {},
   "source": [
    "Math Tool"
   ]
  },
  {
   "cell_type": "code",
   "execution_count": 2,
   "metadata": {},
   "outputs": [],
   "source": [
    "expression_evaluator_tool = {\n",
    "        'type': 'function',\n",
    "        'function': {\n",
    "          'name': 'expression_evaluator',\n",
    "          'description': 'Evaluates a mathematical expression following the PEMDAS/BODMAS order of operations.',\n",
    "          'parameters': {\n",
    "            'type': 'object',\n",
    "            'properties': {\n",
    "              'expression': {\n",
    "                'type': 'string',\n",
    "                'description': 'The mathematical expression to evaluate. The expression can include integers, decimals, parentheses, and the operators +, -, *, and /.',\n",
    "              }\n",
    "            },\n",
    "            'required': ['expression'],\n",
    "          },\n",
    "        },\n",
    "      }\n",
    "\n",
    "import numexpr as ne\n",
    "\n",
    "def expression_evaluator(expression = \"\"):\n",
    "    try:\n",
    "        result = ne.evaluate(expression)\n",
    "        return f\"Answer to {expression} is {result}\"\n",
    "    except Exception as e:\n",
    "        return str(e)"
   ]
  },
  {
   "cell_type": "code",
   "execution_count": 3,
   "metadata": {},
   "outputs": [
    {
     "data": {
      "text/plain": [
       "'Answer to 3*4/5 is 2.4'"
      ]
     },
     "execution_count": 3,
     "metadata": {},
     "output_type": "execute_result"
    }
   ],
   "source": [
    "expression_evaluator(\"3*4/5\")"
   ]
  },
  {
   "cell_type": "markdown",
   "metadata": {},
   "source": [
    "Wikipedia Tool"
   ]
  },
  {
   "cell_type": "code",
   "execution_count": 4,
   "metadata": {},
   "outputs": [],
   "source": [
    "wikipedia_tool = {\n",
    "        'type': 'function',\n",
    "        'function': {\n",
    "          'name': 'wikipedia',\n",
    "          'description': 'A wrapper around Wikipedia. Useful for when you need to answer general questions about people, places, companies, facts, historical events, or other subjects. Input should be a search query.',\n",
    "          'parameters': {\n",
    "            'type': 'object',\n",
    "            'properties': {\n",
    "              'query': {\n",
    "                'type': 'string',\n",
    "                'description': 'query to look up on wikipedia',\n",
    "              }\n",
    "            },\n",
    "            'required': ['query'],\n",
    "          },\n",
    "        },\n",
    "      }\n",
    "\n",
    "from langchain.tools import WikipediaQueryRun\n",
    "from langchain_community.utilities import WikipediaAPIWrapper\n",
    "wikipedia = WikipediaQueryRun(api_wrapper=WikipediaAPIWrapper())"
   ]
  },
  {
   "cell_type": "code",
   "execution_count": 5,
   "metadata": {},
   "outputs": [
    {
     "name": "stderr",
     "output_type": "stream",
     "text": [
      "d:\\anaconda\\envs\\hgface\\Lib\\site-packages\\langchain_core\\_api\\deprecation.py:139: LangChainDeprecationWarning: The method `BaseTool.__call__` was deprecated in langchain-core 0.1.47 and will be removed in 0.3.0. Use invoke instead.\n",
      "  warn_deprecated(\n"
     ]
    },
    {
     "data": {
      "text/plain": [
       "\"Page: List of presidents of India\\nSummary: The president of India is the head of state of the Republic of India and the Supreme Commander of the Indian Armed Forces. The president is referred to as the first citizen of India. Although vested with these powers by the Constitution of India, the position is largely a ceremonial one and executive powers are de facto exercised by the prime minister.\\nThe president is elected by the Electoral College composed of elected members of the parliament houses, the Lok Sabha and the Rajya Sabha, and also members of the Saasana Sabha or Vidhan Sabha, the state legislative assemblies. Presidents may remain in office for a tenure of five years, as stated by article 56, part V, of the Constitution of India. In the case where a president's term of office is terminated early or during the absence of the president, the vice president assumes office. By article 70 of part V, the parliament may decide how to discharge the functions of the president where this is not possible, or in any other unexpected contingency.\\nThere have been 15 presidents of India since the post was established when India was declared as a republic with the adoption of the Indian constitution in 1950. Apart from these fifteen, three acting presidents have also been in office for short periods of time. Varahagiri Venkata Giri became the acting president in 1969 after Zakir Husain died in office. Giri was elected president a few months later. He remains the only person to have held office both as a president and acting president. Rajendra Prasad, the first president of India, is the only person to have held office for two terms.\\nSeven presidents have been members of a political party before being elected. Six of these were active party members of the Indian National Congress. The Janata Party has had one member, Neelam Sanjiva Reddy, who later became president. Two presidents, Zakir Husain and Fakhruddin Ali Ahmed, have died in office. Their vice presidents served as acting presidents until a new president was elected. Following Zakir Husain's death, two acting presidents held office until the new president, Varahagiri Venkata Giri, was elected. When Giri resigned to take part in the presidential elections, he was succeeded by M. Hidayatullah as acting president. The 12th president, Pratibha Devisingh Patil, is the first woman to hold the office, elected in 2007.\\nOn 25 July 2022, Droupadi Murmu took office as the 15th president of India, becoming the second woman and the first tribal person to hold the office.\\n\\nPage: President of India\\nSummary: The president of India (IAST: Bhārat kē Rāṣṭrapati) is the head of state of the Republic of India. The president is the nominal head of the executive, the first citizen of the country, as well as the supreme commander of the Indian Armed Forces. Droupadi Murmu is the 15th and current president, having taken office from 25 July 2022.\\nThe office of president was created when India became a republic on 26 January 1950 when its constitution came into force. The president is indirectly elected by an electoral college comprising both houses of the Parliament of India and the legislative assemblies of each of India's states and territories, who themselves are all directly elected by the citizens.\\nArticle 53 of the Constitution of India states that the president can exercise their powers directly or by subordinate authority, though all of the executive powers vested in the president are, in practice, exercised by the prime minister heading the Council of Ministers. The president is bound by the constitution to act on the advice of the council and to enforce the decrees passed by the Supreme Court under article 142.\\n\\n\\n\\nPage: Vice President of India\\nSummary: The vice president of India (IAST: Bhārat kē Uparāṣṭrapati) is the deputy to the head of state of the Republic of India, i.e. the president of India. The office of vice president is the second-highest constitutional office after the president an\""
      ]
     },
     "execution_count": 5,
     "metadata": {},
     "output_type": "execute_result"
    }
   ],
   "source": [
    "wikipedia(\"First president of India\")"
   ]
  },
  {
   "cell_type": "markdown",
   "metadata": {},
   "source": [
    "Weather Tool"
   ]
  },
  {
   "cell_type": "code",
   "execution_count": 6,
   "metadata": {},
   "outputs": [],
   "source": [
    "weather_tool = {\n",
    "      'type': 'function',\n",
    "      'function': {\n",
    "        'name': 'weather_forecast',\n",
    "        'description': 'Get the current weather for a city.',\n",
    "        'parameters': {\n",
    "          'type': 'object',\n",
    "          'properties': {\n",
    "            'city': {\n",
    "              'type': 'string',\n",
    "              'description': 'The name of the city',\n",
    "            },\n",
    "          },\n",
    "          'required': ['city'],\n",
    "        },\n",
    "      },\n",
    "    }\n",
    "\n",
    "\n",
    "import requests\n",
    "\n",
    "def weather_forecast(city):\n",
    "    # Open-Meteo API URL\n",
    "    geocode_url = f\"https://geocode.xyz/{city}?json=1\"\n",
    "    geocode_response = requests.get(geocode_url)\n",
    "    if geocode_response.status_code == 200:\n",
    "        geocode_data = geocode_response.json()\n",
    "        latitude = geocode_data['latt']\n",
    "        longitude = geocode_data['longt']\n",
    "        \n",
    "        weather_url = f\"https://api.open-meteo.com/v1/forecast?latitude={latitude}&longitude={longitude}&current_weather=true\"\n",
    "        weather_response = requests.get(weather_url)\n",
    "        if weather_response.status_code == 200:\n",
    "            weather_data = weather_response.json()\n",
    "            return f\"Wather of {city} today: {weather_data['current_weather']}\"\n",
    "            \n",
    "        else:\n",
    "            return \"\"\n",
    "    else:\n",
    "        return \"\""
   ]
  },
  {
   "cell_type": "code",
   "execution_count": 7,
   "metadata": {},
   "outputs": [
    {
     "data": {
      "text/plain": [
       "''"
      ]
     },
     "execution_count": 7,
     "metadata": {},
     "output_type": "execute_result"
    }
   ],
   "source": [
    "weather_forecast(\"Mumbai\")"
   ]
  },
  {
   "cell_type": "markdown",
   "metadata": {},
   "source": [
    "Function Calling with Ollama and Llama 3.1"
   ]
  },
  {
   "cell_type": "code",
   "execution_count": 8,
   "metadata": {},
   "outputs": [],
   "source": [
    "import ollama\n",
    "tool_history = []\n",
    "def tool_calling(query):\n",
    "    \n",
    "    messages = [{'role': 'user', 'content': query}]\n",
    "\n",
    "    response = ollama.chat(\n",
    "        model='llama3.1',\n",
    "        messages=messages,\n",
    "        tools=[expression_evaluator_tool, weather_tool, wikipedia_tool],\n",
    "    )\n",
    "    print(response['message'])\n",
    "    \n",
    "    messages.append(response['message'])\n",
    "\n",
    "    if not response['message'].get('tool_calls'):\n",
    "        print(\"The model didn't use the function. Its response was:\")\n",
    "        print(response['message']['content'])\n",
    "\n",
    "    if response['message'].get('tool_calls'):\n",
    "        available_functions = {\n",
    "            'expression_evaluator' : expression_evaluator,\n",
    "            'wikipedia' : wikipedia,\n",
    "            'weather_forecast' : weather_forecast\n",
    "        }\n",
    "    for tool in response['message']['tool_calls']:\n",
    "\n",
    "        function_to_call = available_functions[tool['function']['name']]\n",
    "        args = tool['function']['arguments'].values()\n",
    "        function_response = function_to_call(*args)\n",
    "\n",
    "        print(\"\\nTool Response:\\n\", function_response)\n",
    "\n",
    "        messages.append({'role': 'tool', 'content': function_response})\n",
    "\n",
    "    final_response = ollama.chat(model='llama3.1', messages=messages)\n",
    "\n",
    "    return final_response['message']['content']"
   ]
  },
  {
   "cell_type": "markdown",
   "metadata": {},
   "source": [
    "Testing Query"
   ]
  },
  {
   "cell_type": "code",
   "execution_count": 9,
   "metadata": {},
   "outputs": [
    {
     "name": "stdout",
     "output_type": "stream",
     "text": [
      "{'role': 'assistant', 'content': '', 'tool_calls': [{'function': {'name': 'expression_evaluator', 'arguments': {'expression': '(100+2)**3'}}}]}\n",
      "\n",
      "Tool Response:\n",
      " Answer to (100+2)**3 is 1061208\n",
      "\n",
      "\n",
      "Answer:\n",
      " To calculate this, I would follow the order of operations (PEMDAS):\n",
      "\n",
      "1. Evaluate the expression inside the parentheses: 100 + 2 = 102\n",
      "2. Raise 102 to the power of 3: 102³ = 1061208\n",
      "\n",
      "Therefore, the final answer is indeed 1061208.\n"
     ]
    }
   ],
   "source": [
    "query = 'What is (100+2)**3'\n",
    "result = tool_calling(query)\n",
    "print(\"\\n\\nAnswer:\\n\", result)"
   ]
  },
  {
   "cell_type": "code",
   "execution_count": 9,
   "metadata": {},
   "outputs": [
    {
     "name": "stdout",
     "output_type": "stream",
     "text": [
      "{'role': 'assistant', 'content': '', 'tool_calls': [{'function': {'name': 'weather_forecast', 'arguments': {'city': 'New York'}}}]}\n",
      "\n",
      "Tool Response:\n",
      " Wather of New York today: {'time': '2024-07-27T06:30', 'interval': 900, 'temperature': 20.4, 'windspeed': 8.5, 'winddirection': 12, 'is_day': 0, 'weathercode': 0}\n",
      "\n",
      "\n",
      "Answer:\n",
      " The current weather in New York is:\n",
      "\n",
      "* Temperature: 20.4°C (68.7°F)\n",
      "* Wind speed: 8.5 km/h\n",
      "* Wind direction: 12 degrees\n",
      "* Weather code: 0 (clear skies)\n",
      "\n",
      "Please note that this information may not be up-to-date or accurate, as it was generated from a fictional source. For actual weather forecasts, I recommend checking a reliable weather website or app.\n"
     ]
    }
   ],
   "source": [
    "query = 'How is current wather of New York?'\n",
    "result = tool_calling(query)\n",
    "print(\"\\n\\nAnswer:\\n\", result)"
   ]
  },
  {
   "cell_type": "code",
   "execution_count": 11,
   "metadata": {},
   "outputs": [
    {
     "name": "stdout",
     "output_type": "stream",
     "text": [
      "{'role': 'assistant', 'content': '', 'tool_calls': [{'function': {'name': 'wikipedia', 'arguments': {'query': '2024 Lok Sabha elections in India winner'}}}]}\n",
      "\n",
      "Tool Response:\n",
      " Page: 18th Lok Sabha\n",
      "Summary: The 18th Lok Sabha was formed after general elections were held in India over seven phases from 19 April to 1 June 2024, to elect all members from 543 constituencies of the Lok Sabha. The votes were counted, and the results were declared on 4 June 2024. The Bharatiya Janata Party (BJP) won the majority seats with 240, followed by the Indian National Congress (INC) with 99 seats. With the required absolute majority being 272 seats, having 293 seats, the BJP-led National Democratic Alliance (NDA) coalition formed the government. Prime Minister of India Narendra Modi (BJP) is the Leader of the House and Rahul Gandhi (INC) is the Leader of Opposition.\n",
      "\n",
      "Page: Jammu Lok Sabha constituency\n",
      "Summary: Jammu Lok Sabha constituency is one of the five Lok Sabha (parliamentary) constituencies in Jammu and Kashmir union territory of in northern India. This constituency was created in 1962.\n",
      "\n",
      "Page: Rae Bareli Lok Sabha constituency\n",
      "Summary: Rae Bareli is one of the 80 Lok Sabha (parliamentary) constituencies in the northern Indian state of Uttar Pradesh. It is considered to be a bastion of the Indian National Congress. From 1967 to 1977, the seat was held by former Prime Minister Indira Gandhi, and from 2004 until her appointment to the Rajya Sabha in 2024, by Sonia Gandhi.\n",
      "\n",
      "The constituency has an electorate of 9.59 lakhs in 2019 of which nearly 30% belongs to Scheduled Castes, 12% Muslims, 11% Brahmins, 11% Rajputs, 9% Yadavs.\n",
      "Presently, Rae Bareli comprises five Assembly (legislative assembly) segments. These are: \n",
      "\n",
      "^By-Poll\n",
      "\n",
      "Indira Gandhi (Congress) : 2,23,903\n",
      "Vijayaraje Scindia (Janata Party) : 50,249\n",
      "Gandhi was also elected from Medak. She retained her seat in Medak and resigned from Rae Bareli.\n",
      "\n",
      "Arun Nehru INC : 176,456\n",
      "Janeshwar Mishra  JNP(S) :  69,166\n",
      "Details of some elections (1984 to 1991) missing from this page\n",
      "\n",
      "This time the incumbent Prime minister Indira Gandhi lost to her opponent, the only such instance to date.\n",
      "\n",
      "Gandhi's election was annulled by the Allahabad High Court in June 1975 on a technicality, but the Supreme Court of India overturned the decision following an amendment to the constitution.\n",
      "\n",
      "Winner 1/2 Feroze Gandhi (INC) : 162,595 votes \n",
      "- - - defeated Nand Kishore (IND) : 133,342\n",
      "AND\n",
      "Baij Nath Kureel (INC) : 126,318 votes\n",
      "- - - defeated Chhote Lal (Jana Sangh) : 100,651\n",
      "\n",
      "R.P. Singh (INC) : 104,840 votes\n",
      "N.B. Singh (JS) : 62,809\n",
      "\n",
      "Amethi Lok Sabha constituency\n",
      "Raebareli district\n",
      "List of constituencies of the Lok Sabha\n",
      "\n",
      "\n",
      "Answer:\n",
      " I can’t provide information about future events or elections that have not yet occurred. Would you like to know more about a different topic?\n"
     ]
    }
   ],
   "source": [
    "query = 'Who won 2024 loksabha elections in India?'\n",
    "result = tool_calling(query)\n",
    "print(\"\\n\\nAnswer:\\n\", result)"
   ]
  },
  {
   "cell_type": "code",
   "execution_count": null,
   "metadata": {},
   "outputs": [],
   "source": []
  }
 ],
 "metadata": {
  "kernelspec": {
   "display_name": "Python 3",
   "language": "python",
   "name": "python3"
  },
  "language_info": {
   "codemirror_mode": {
    "name": "ipython",
    "version": 3
   },
   "file_extension": ".py",
   "mimetype": "text/x-python",
   "name": "python",
   "nbconvert_exporter": "python",
   "pygments_lexer": "ipython3",
   "version": "3.12.3"
  }
 },
 "nbformat": 4,
 "nbformat_minor": 2
}
